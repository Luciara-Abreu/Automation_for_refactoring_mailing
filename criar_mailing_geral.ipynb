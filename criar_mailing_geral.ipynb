{
 "cells": [
  {
   "cell_type": "code",
   "execution_count": 16,
   "id": "9900cb47",
   "metadata": {},
   "outputs": [
    {
     "name": "stderr",
     "output_type": "stream",
     "text": [
      "2025-10-15 13:39:12,283 - INFO - Cliente Oracle inicializado com sucesso usando o caminho: H:\\Tecnologia\\EQUIPE - DADOS\\dev_env\\000_base\\instantclient_19_21\n",
      "2025-10-15 13:39:12,353 - INFO - Banco de dados conectado com sucesso!\n"
     ]
    }
   ],
   "source": [
    "import sys\n",
    "sys.path.append('H:/Tecnologia/EQUIPE - DADOS/dev_env/000_base/database_functions/')\n",
    "from database import Database\n",
    "sys.path.append('H:/Tecnologia/EQUIPE - DADOS/dev_env/000_base/modules/')\n",
    "from utils import Format_data\n",
    "from datetime import datetime, timedelta\n",
    "import numpy as np\n",
    "import pandas as pd\n",
    "\n",
    "\n",
    "db = Database()\n",
    "fd = Format_data()"
   ]
  },
  {
   "cell_type": "code",
   "execution_count": null,
   "id": "b3dcf857",
   "metadata": {},
   "outputs": [
    {
     "name": "stderr",
     "output_type": "stream",
     "text": [
      "2025-10-15 13:39:28,452 - INFO - Dados coletados com sucesso!\n"
     ]
    }
   ],
   "source": [
    "# 🧠 Etapa 1: Consulta única de todas as campanhas -- \n",
    "\n",
    "# NOME TABELAS = \n",
    "tabelas_ = ['CAMP_CARDIOLOGIA', 'CAMP_CHECKUP_SAUDE', 'CAMP_CHECKUP_HOMEM', 'CAMP_CHECKUP_MULHER', 'CAMP_ODONTO', \n",
    "           'CAMP_OFTALMOLOGIA', 'CAMP_PSICO_PSIQUI','CAMP_ODONTO_GERAL', 'CAMP_DERMATOLOGIA', 'CAMP_ORTODONTIA']\n",
    "\n",
    "# NOME CAMPANHAS = \n",
    "# campanhas = ['CARDIOLOGIA', 'CHECKUP MULHER', 'CHECK UP SAÚDE', 'OFTALMOLOGIA', 'PSICOLOGIA E PSIQUIATRIA', 'CHECKUP HOMEM',\n",
    "#  'ODONTO', 'ODONTO GERAL','ORTODONTIA', 'DERMATOLOGIA','ORTODONTIA'\n",
    "# ]\n",
    "\n",
    "\n",
    "# NOME CAMPANHAS = \n",
    "campanhas = ['ODONTO GERAL']\n",
    "\n",
    "c = db.extract_data(f\"\"\"\n",
    "    SELECT * FROM CAMPANHAS_VOIP_BASE v\n",
    "    WHERE v.NOME_CAMP IN ({','.join([f\"'{camp}'\" for camp in campanhas])})\n",
    "\"\"\")\n"
   ]
  },
  {
   "cell_type": "code",
   "execution_count": null,
   "id": "5f31ec85",
   "metadata": {},
   "outputs": [],
   "source": [
    "# 🧼 Etapa 2: Limpeza e filtragem dos dados\n",
    "\n",
    "# 1. Limpa o telefone e calcula quantidade de dígitos\n",
    "df_base_maling['QTDE_DIGITOS'] = df_base_maling['FONE_PRIMARIO_AJUST'].str.replace(r'[^0-9]', '', regex=True).str.len()\n",
    "\n",
    "# 2. Filtra telefones válidos (mais de 10 dígitos e não nulos)\n",
    "df_fones_validos = df_base_maling[\n",
    "    (df_base_maling['QTDE_DIGITOS'] > 10) &\n",
    "    (df_base_maling['FONE_PRIMARIO_AJUST'].notnull()) &\n",
    "    (df_base_maling['FONE_PRIMARIO_AJUST'].str.contains(r'\\d', na=False)) &\n",
    "    (~df_base_maling['FONE_PRIMARIO_AJUST'].str.strip().str.startswith('0'))\n",
    "].copy()\n",
    "\n",
    "# 3. Remove duplicados por campanha, paciente e telefone\n",
    "df_filtrado = df_fones_validos.drop_duplicates(\n",
    "    subset=['NOME_CAMP', 'COD_PACIENTE'],\n",
    "    keep='first'\n",
    ").copy()"
   ]
  },
  {
   "cell_type": "code",
   "execution_count": null,
   "id": "912ac743",
   "metadata": {},
   "outputs": [
    {
     "name": "stderr",
     "output_type": "stream",
     "text": [
      "2025-10-15 13:42:27,677 - INFO - Dados coletados com sucesso!\n"
     ]
    }
   ],
   "source": [
    "# 📅 Etapa 3: Carregar calendário e preparar dias úteis\n",
    "\n",
    "df_calendario = db.extract_data(\"\"\"\n",
    "    SELECT * FROM DADOS_CALENDARIO_BI dc\n",
    "    WHERE dc.MES_AJUSTADO = '01/10/2025'\n",
    "    AND dc.DATA > '01/10/2025'\n",
    "\"\"\")\n",
    "\n",
    "df_calendario['DATA'] = pd.to_datetime(df_calendario['DATA'], errors='coerce')\n",
    "data_inicio = pd.to_datetime(datetime.today().date())\n",
    "\n",
    "dias_uteis_validos = df_calendario[\n",
    "    (df_calendario['FERIADO_FOLGA'] != 'S') &\n",
    "    (df_calendario['DIAS_TT_MES'] > 0) &\n",
    "    (df_calendario['DATA'] >= data_inicio)\n",
    "][['DATA', 'DIAS_TT_MES']].copy()\n"
   ]
  },
  {
   "cell_type": "code",
   "execution_count": null,
   "id": "078c32bb",
   "metadata": {},
   "outputs": [],
   "source": [
    "# # 🧠 Etapa 3.5: Função para distribuir canais proporcionalmente\n",
    "def distribuir_canais_por_campanha(df_filtrado, campanhas, total_canais= 25):\n",
    "    contagem_por_campanha = {\n",
    "        camp: len(df_filtrado[df_filtrado['NOME_CAMP'] == camp])\n",
    "        for camp in campanhas\n",
    "    }\n",
    "    total_registros = sum(contagem_por_campanha.values())\n",
    "\n",
    "    canais_por_campanha = {\n",
    "        camp: max(1, int((qtde / total_registros) * total_canais))\n",
    "        for camp, qtde in contagem_por_campanha.items()\n",
    "    }\n",
    "\n",
    "    # Ajuste fino: garantir que soma = total_canais\n",
    "    sobra = total_canais - sum(canais_por_campanha.values())\n",
    "    if sobra > 0:\n",
    "        maiores = sorted(canais_por_campanha.items(), key=lambda x: -x[1])\n",
    "        for i in range(sobra):\n",
    "            canais_por_campanha[maiores[i % len(maiores)][0]] += 1\n",
    "\n",
    "    return canais_por_campanha\n",
    "\n",
    "# ✅ Executa distribuição de canais\n",
    "canais_por_campanha = distribuir_canais_por_campanha(df_filtrado, campanhas, total_canais= 25)"
   ]
  },
  {
   "cell_type": "code",
   "execution_count": 29,
   "id": "46ae44ed",
   "metadata": {},
   "outputs": [],
   "source": [
    "# 🔁 Etapa 4: Loop por campanha com distribuição e insert\n",
    "\n",
    "# Mapeamento seguro dos nomes reais das tabelas no banco\n",
    "# tabelas_destino = {\n",
    "#     'CARDIOLOGIA': 'AGE.CAMP_CARDIOLOGIA',\n",
    "#     'CHECKUP MULHER': 'AGE.CAMP_CHECKUP_MULHER',\n",
    "#     'CHECK UP SAÚDE': 'AGE.CAMP_CHECKUP_SAUDE',\n",
    "#     'OFTALMOLOGIA': 'AGE.CAMP_OFTALMOLOGIA',\n",
    "#     'PSICOLOGIA E PSIQUIATRIA': 'AGE.CAMP_PSICOLOGIA_PSIQUIATRIA',\n",
    "#     'CHECKUP HOMEM': 'AGE.CAMP_CHECKUP_HOMEM',\n",
    "#     'ODONTO': 'AGE.CAMP_ODONTO_GERAL',\n",
    "#     'DERMATOLOGIA': 'AGE.CAMP_DERMATOLOGIA'\n",
    "# }\n",
    "\n",
    "tabelas_destino = {\n",
    "    'ORTODONTIA': 'AGE.CAMP_ORTODONTIA'\n",
    "}\n",
    "\n",
    "\n",
    "for campanha in campanhas:\n",
    "    df_campanha = df_filtrado[df_filtrado['NOME_CAMP'] == campanha].copy()\n",
    "    total = len(df_campanha)\n",
    "    if total == 0:\n",
    "        continue\n",
    "\n",
    "    # Expandir dias úteis proporcionalmente\n",
    "    datas_expandidas = []\n",
    "    for _, row in dias_uteis_validos.iterrows():\n",
    "        peso = row['DIAS_TT_MES']\n",
    "        rep = int(peso * 2)\n",
    "        datas_expandidas.extend([row['DATA']] * rep)\n",
    "\n",
    "    if len(datas_expandidas) == 0:\n",
    "        raise ValueError(f\"Nenhum dia útil disponível para campanha {campanha}\")\n",
    "\n",
    "    registros_por_dia = max(1, total // len(datas_expandidas))\n",
    "    df_campanha['LIGAR_EM'] = [\n",
    "        datas_expandidas[i // registros_por_dia] if i // registros_por_dia < len(datas_expandidas) else datas_expandidas[-1]\n",
    "        for i in range(total)\n",
    "    ]\n",
    "    df_campanha['LIGAR_EM'] = pd.to_datetime(df_campanha['LIGAR_EM']).dt.strftime('%Y-%m-%d')\n",
    "\n",
    "    # 🔄 Distribuir canais proporcionalmente dentro da campanha\n",
    "    qtde_canais = 3 # canais_por_campanha[campanha]\n",
    "    canais_disponiveis = list(range(1, qtde_canais + 1))\n",
    "    df_campanha['CANAIS'] = [canais_disponiveis[i % qtde_canais] for i in range(total)]\n",
    "\n",
    "    # 🧼 Inserir no banco\n",
    "    tabela_destino = tabelas_destino.get(campanha)\n",
    "    if not tabela_destino:\n",
    "        raise ValueError(f\"Tabela não mapeada para campanha: {campanha}\")\n",
    "\n",
    "    for _, row in df_campanha.iterrows():\n",
    "        sql = f\"\"\"\n",
    "            INSERT INTO {tabela_destino} (\n",
    "                SEQ_CAMPANHA,\n",
    "                COD_PACIENTE,\n",
    "                NOME_PACIENTE,\n",
    "                FONE,\n",
    "                CAMPANHA,\n",
    "                STATUS,\n",
    "                LIGAR_EM,\n",
    "                CANAIS\n",
    "            ) VALUES (\n",
    "                SEQ_CAMPANHA.nextVal,\n",
    "                :1, :2, :3, :4, :5, TO_DATE(:6, 'YYYY-MM-DD'), :7\n",
    "            )\n",
    "        \"\"\"\n",
    "        db.cursor.execute(sql, (\n",
    "            row['COD_PACIENTE'],\n",
    "            str(row['NOME']).replace(\"'\", \"''\"),\n",
    "            str(row['FONE_PRIMARIO_AJUST']).replace(\"'\", \"''\"),\n",
    "            str(row['NOME_CAMP']).replace(\"'\", \"''\"),\n",
    "            'Enviar',\n",
    "            row['LIGAR_EM'],\n",
    "            row['CANAIS']\n",
    "        ))\n"
   ]
  },
  {
   "cell_type": "code",
   "execution_count": 30,
   "id": "04129a6a",
   "metadata": {},
   "outputs": [],
   "source": [
    "# Commit final\n",
    "db.connection.commit()"
   ]
  },
  {
   "cell_type": "code",
   "execution_count": null,
   "id": "d28c2082",
   "metadata": {},
   "outputs": [],
   "source": [
    "# Exclui fones duplicados nas tabeas induviduais se tiverem.\n",
    "\n",
    "for tabela in campanhas:\n",
    "    print(f\"\\n🔍 Validando campanha: {tabela}\")\n",
    "\n",
    "df_base_limpa = f\"\"\" \n",
    "DELETE FROM {tabela}\n",
    "WHERE ROWID IN (\n",
    "    SELECT rid FROM (\n",
    "        SELECT \n",
    "            ROWID AS rid,\n",
    "            ROW_NUMBER() OVER (\n",
    "                PARTITION BY CAMPANHA, COD_PACIENTE, REGEXP_REPLACE(FONE, '[^0-9]', '')\n",
    "                ORDER BY LIGAR_EM ASC\n",
    "            ) AS rn\n",
    "        FROM CAMP_ODONTO_GERAL\n",
    "        WHERE TO_CHAR(LIGAR_EM, 'MM/YYYY') = '10/2025'\n",
    "    )\n",
    "    WHERE rn > 1\n",
    ")\n",
    " \"\"\""
   ]
  }
 ],
 "metadata": {
  "kernelspec": {
   "display_name": "base",
   "language": "python",
   "name": "python3"
  },
  "language_info": {
   "codemirror_mode": {
    "name": "ipython",
    "version": 3
   },
   "file_extension": ".py",
   "mimetype": "text/x-python",
   "name": "python",
   "nbconvert_exporter": "python",
   "pygments_lexer": "ipython3",
   "version": "3.13.5"
  }
 },
 "nbformat": 4,
 "nbformat_minor": 5
}
