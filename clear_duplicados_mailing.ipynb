{
 "cells": [
  {
   "cell_type": "code",
   "execution_count": 1,
   "id": "9900cb47",
   "metadata": {},
   "outputs": [
    {
     "name": "stderr",
     "output_type": "stream",
     "text": [
      "2025-10-16 08:47:53,138 - INFO - Cliente Oracle inicializado com sucesso usando o caminho: H:\\Tecnologia\\EQUIPE - DADOS\\dev_env\\000_base\\instantclient_19_21\n",
      "2025-10-16 08:47:53,374 - INFO - Banco de dados conectado com sucesso!\n"
     ]
    }
   ],
   "source": [
    "import sys\n",
    "sys.path.append('H:/Tecnologia/EQUIPE - DADOS/dev_env/000_base/database_functions/')\n",
    "from database import Database\n",
    "sys.path.append('H:/Tecnologia/EQUIPE - DADOS/dev_env/000_base/modules/')\n",
    "from utils import Format_data\n",
    "from datetime import datetime, timedelta\n",
    "import numpy as np\n",
    "import pandas as pd\n",
    "\n",
    "\n",
    "db = Database()\n",
    "fd = Format_data()"
   ]
  },
  {
   "cell_type": "code",
   "execution_count": 10,
   "id": "b3dcf857",
   "metadata": {},
   "outputs": [
    {
     "name": "stdout",
     "output_type": "stream",
     "text": [
      "\n",
      "🔍 Validando campanha: CAMP_ODONTO_GERAL\n"
     ]
    },
    {
     "name": "stderr",
     "output_type": "stream",
     "text": [
      "2025-10-16 08:51:13,168 - INFO - Dados coletados com sucesso!\n"
     ]
    },
    {
     "name": "stdout",
     "output_type": "stream",
     "text": [
      "📦 Total de registros extraídos: 469416\n"
     ]
    }
   ],
   "source": [
    "# 🧠 Etapa 1: Consulta única de todas as campanhas -- \n",
    "# NOME CAMPANHAS = \n",
    "campanhas = ['CAMP_ODONTO_GERAL'] \n",
    "\n",
    "for tabela in campanhas:\n",
    "    print(f\"\\n🔍 Validando campanha: {tabela}\")\n",
    "\n",
    "    sql = f\"\"\"\n",
    "        SELECT c.*, COUNT(*) OVER () AS TOTAL_REGISTROS\n",
    "        FROM {tabela} c\n",
    "        WHERE TO_CHAR(c.LIGAR_EM, 'MM/YYYY') = '10/2025'\n",
    "        ORDER BY c.LIGAR_EM ASC\n",
    "    \"\"\"\n",
    "\n",
    "    df = db.extract_data(sql)\n",
    "    print(f\"📦 Total de registros extraídos: {df.shape[0]}\")\n",
    "\n"
   ]
  },
  {
   "cell_type": "code",
   "execution_count": 15,
   "id": "528d0d9a",
   "metadata": {},
   "outputs": [
    {
     "name": "stdout",
     "output_type": "stream",
     "text": [
      "🔁 Total de registros duplicados: 0\n"
     ]
    },
    {
     "data": {
      "application/vnd.microsoft.datawrangler.viewer.v0+json": {
       "columns": [
        {
         "name": "index",
         "rawType": "int64",
         "type": "integer"
        },
        {
         "name": "CAMPANHA",
         "rawType": "object",
         "type": "string"
        },
        {
         "name": "COD_PACIENTE",
         "rawType": "int64",
         "type": "integer"
        },
        {
         "name": "FONE_LIMPO",
         "rawType": "object",
         "type": "string"
        },
        {
         "name": "QTD",
         "rawType": "int64",
         "type": "integer"
        }
       ],
       "ref": "b54c47a4-06b5-46df-85e7-7163b0404f5b",
       "rows": [],
       "shape": {
        "columns": 4,
        "rows": 0
       }
      },
      "text/html": [
       "<div>\n",
       "<style scoped>\n",
       "    .dataframe tbody tr th:only-of-type {\n",
       "        vertical-align: middle;\n",
       "    }\n",
       "\n",
       "    .dataframe tbody tr th {\n",
       "        vertical-align: top;\n",
       "    }\n",
       "\n",
       "    .dataframe thead th {\n",
       "        text-align: right;\n",
       "    }\n",
       "</style>\n",
       "<table border=\"1\" class=\"dataframe\">\n",
       "  <thead>\n",
       "    <tr style=\"text-align: right;\">\n",
       "      <th></th>\n",
       "      <th>CAMPANHA</th>\n",
       "      <th>COD_PACIENTE</th>\n",
       "      <th>FONE_LIMPO</th>\n",
       "      <th>QTD</th>\n",
       "    </tr>\n",
       "  </thead>\n",
       "  <tbody>\n",
       "  </tbody>\n",
       "</table>\n",
       "</div>"
      ],
      "text/plain": [
       "Empty DataFrame\n",
       "Columns: [CAMPANHA, COD_PACIENTE, FONE_LIMPO, QTD]\n",
       "Index: []"
      ]
     },
     "metadata": {},
     "output_type": "display_data"
    },
    {
     "name": "stdout",
     "output_type": "stream",
     "text": [
      "✅ Registros únicos restantes: 469377\n"
     ]
    }
   ],
   "source": [
    "# 🧼 Etapa 2: Limpeza e filtragem dos dados\n",
    "\n",
    "# 1. Limpa o telefone e calcula quantidade de dígitos\n",
    "df['FONE_LIMPO'] = df['FONE'].str.replace(r'[^0-9]', '', regex=True)\n",
    "df['QTDE_DIGITOS'] = df['FONE_LIMPO'].str.len()\n",
    "\n",
    "# 2. Filtra telefones válidos (mais de 10 dígitos e não nulos)\n",
    "df_fones_validos = df[\n",
    "    (df['QTDE_DIGITOS'] > 10) &\n",
    "    (df['FONE_LIMPO'].notnull()) &\n",
    "    (df['FONE_LIMPO'].str.contains(r'\\d', na=False))\n",
    "].copy()\n",
    "\n",
    "# 3. Define as colunas que identificam duplicidade\n",
    "colunas_chave = ['CAMPANHA', 'COD_PACIENTE', 'FONE_LIMPO']\n",
    "\n",
    "# 4. Marca todos os registros duplicados (inclusive o primeiro)\n",
    "duplicados = df_fones_validos.duplicated(subset=colunas_chave, keep=False)\n",
    "\n",
    "# 5. Filtra apenas os registros duplicados\n",
    "df_duplicados = df_fones_validos[duplicados].copy()\n",
    "\n",
    "# 6. Exibe a quantidade total de duplicados\n",
    "print(f\"🔁 Total de registros duplicados: {df_duplicados.shape[0]}\")\n",
    "\n",
    "# 7. (Opcional) Ver duplicados agrupados\n",
    "duplicatas_agrupadas = df_duplicados.groupby(colunas_chave).size().reset_index(name='QTD')\n",
    "display(duplicatas_agrupadas.sort_values('QTD', ascending=False))\n",
    "\n",
    "# # 🧹 Etapa 3: Remover duplicados e manter apenas registros únicos\n",
    "df_sem_duplicados = df_fones_validos[~duplicados].copy()\n",
    "\n",
    "# # 8. Resultado final\n",
    "print(f\"✅ Registros únicos restantes: {df_sem_duplicados.shape[0]}\")\n"
   ]
  },
  {
   "cell_type": "code",
   "execution_count": 14,
   "id": "3624daa7",
   "metadata": {},
   "outputs": [
    {
     "name": "stdout",
     "output_type": "stream",
     "text": [
      "\n",
      "🔍 Validando campanha: CAMP_ODONTO_GERAL\n"
     ]
    }
   ],
   "source": [
    "# Exclui fones duplicados\n",
    "\n",
    "for tabela in campanhas:\n",
    "    print(f\"\\n🔍 Validando campanha: {tabela}\")\n",
    "\n",
    "df_exclui = f\"\"\" \n",
    "DELETE FROM {tabela}\n",
    "WHERE ROWID IN (\n",
    "    SELECT rid FROM (\n",
    "        SELECT \n",
    "            ROWID AS rid,\n",
    "            ROW_NUMBER() OVER (\n",
    "                PARTITION BY CAMPANHA, COD_PACIENTE, REGEXP_REPLACE(FONE, '[^0-9]', '')\n",
    "                ORDER BY LIGAR_EM ASC\n",
    "            ) AS rn\n",
    "        FROM CAMP_ODONTO_GERAL\n",
    "        WHERE TO_CHAR(LIGAR_EM, 'MM/YYYY') = '10/2025'\n",
    "    )\n",
    "    WHERE rn > 1\n",
    ")\n",
    " \"\"\""
   ]
  }
 ],
 "metadata": {
  "kernelspec": {
   "display_name": "base",
   "language": "python",
   "name": "python3"
  },
  "language_info": {
   "codemirror_mode": {
    "name": "ipython",
    "version": 3
   },
   "file_extension": ".py",
   "mimetype": "text/x-python",
   "name": "python",
   "nbconvert_exporter": "python",
   "pygments_lexer": "ipython3",
   "version": "3.13.5"
  }
 },
 "nbformat": 4,
 "nbformat_minor": 5
}
