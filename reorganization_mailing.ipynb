{
 "cells": [
  {
   "cell_type": "code",
   "execution_count": 1,
   "id": "9900cb47",
   "metadata": {},
   "outputs": [
    {
     "name": "stderr",
     "output_type": "stream",
     "text": [
      "2025-10-16 08:47:38,382 - INFO - Cliente Oracle inicializado com sucesso usando o caminho: H:\\Tecnologia\\EQUIPE - DADOS\\dev_env\\000_base\\instantclient_19_21\n",
      "2025-10-16 08:47:41,772 - INFO - Banco de dados conectado com sucesso!\n"
     ]
    }
   ],
   "source": [
    "import sys\n",
    "sys.path.append('H:/Tecnologia/EQUIPE - DADOS/dev_env/000_base/database_functions/')\n",
    "from database import Database\n",
    "sys.path.append('H:/Tecnologia/EQUIPE - DADOS/dev_env/000_base/modules/')\n",
    "from utils import Format_data\n",
    "from datetime import datetime, timedelta\n",
    "import numpy as np\n",
    "import pandas as pd\n",
    "\n",
    "db = Database()\n",
    "fd = Format_data()"
   ]
  },
  {
   "cell_type": "code",
   "execution_count": null,
   "id": "bb2e7686",
   "metadata": {},
   "outputs": [
    {
     "name": "stdout",
     "output_type": "stream",
     "text": [
      "\n",
      "🔍 Validando campanha: CAMP_DERMATOLOGIA\n"
     ]
    },
    {
     "name": "stderr",
     "output_type": "stream",
     "text": [
      "C:\\Users\\luci.abreu\\AppData\\Local\\Temp\\ipykernel_16476\\3239324483.py:35: UserWarning: pandas only supports SQLAlchemy connectable (engine/connection) or database string URI or sqlite3 DBAPI2 connection. Other DBAPI2 objects are not tested. Please consider using SQLAlchemy.\n",
      "  df_vencidos = pd.read_sql(query_vencidos, con=db.connection)\n",
      "C:\\Users\\luci.abreu\\AppData\\Local\\Temp\\ipykernel_16476\\3239324483.py:44: UserWarning: pandas only supports SQLAlchemy connectable (engine/connection) or database string URI or sqlite3 DBAPI2 connection. Other DBAPI2 objects are not tested. Please consider using SQLAlchemy.\n",
      "  df_hoje = pd.read_sql(query_hoje, con=db.connection)\n",
      "C:\\Users\\luci.abreu\\AppData\\Local\\Temp\\ipykernel_16476\\3239324483.py:54: UserWarning: pandas only supports SQLAlchemy connectable (engine/connection) or database string URI or sqlite3 DBAPI2 connection. Other DBAPI2 objects are not tested. Please consider using SQLAlchemy.\n",
      "  df_religar = pd.read_sql(query_religar, con=db.connection)\n",
      "C:\\Users\\luci.abreu\\AppData\\Local\\Temp\\ipykernel_16476\\3239324483.py:62: UserWarning: pandas only supports SQLAlchemy connectable (engine/connection) or database string URI or sqlite3 DBAPI2 connection. Other DBAPI2 objects are not tested. Please consider using SQLAlchemy.\n",
      "  df_enviar = pd.read_sql(query_enviar, con=db.connection)\n"
     ]
    },
    {
     "name": "stdout",
     "output_type": "stream",
     "text": [
      "🔄 49670 registros vencidos serão redistribuídos.\n"
     ]
    }
   ],
   "source": [
    "## Valida se tem clientes vencidos com status Enviar (são os que acabou o dia e não deu tempo de ligar para eles)\n",
    "## Valida se tem clientes vencidos com Status diferente de Enviar, Completou e Em Execucao (Ligações que não deram certo)\n",
    "## Valida se tem base sem data de hoje para ligar.(Base sem dados para ligar hoje)\n",
    "\n",
    "# BLOCO 1\n",
    "from datetime import datetime\n",
    "import pandas as pd\n",
    "\n",
    "hoje = datetime.today().date()\n",
    "mes_referencia = hoje.strftime('%m/%Y') \n",
    "\n",
    "tabelas_campanhas = ['CAMP_CARDIOLOGIA',  'CAMP_OFTALMOLOGIA','CAMP_PSICO_PSIQUI', 'CAMP_ODONTO',\n",
    "'CAMP_CHECKUP_MULHER', 'CAMP_CHECKUP_SAUDE', 'CAMP_DERMATOLOGIA','CAMP_ODONTO_GERAL','CAMP_CHECKUP_HOMEM','CAMP_ORTODONTIA']\n",
    "\n",
    "#tabelas_campanhas = [  'CAMP_DERMATOLOGIA'  ]\n",
    "\n",
    "\n",
    "registros_para_redistribuir = {}\n",
    "\n",
    "for tabela in tabelas_campanhas:\n",
    "    print(f\"\\n🔍 Validando campanha: {tabela}\")\n",
    "\n",
    "    # 1. Vencidos com STATUS <> 'Completou'\n",
    "    query_vencidos = f\"\"\"\n",
    "        SELECT SEQ_CAMPANHA, COD_PACIENTE, NOME_PACIENTE, FONE, LIGAR_EM, STATUS, TEMPO_LIGACAO, CANAIS, CAMPANHA\n",
    "        FROM {tabela}\n",
    "        WHERE TO_CHAR(LIGAR_EM, 'MM/YYYY') = '{mes_referencia}'\n",
    "          AND LIGAR_EM < TO_DATE('{hoje.strftime('%Y-%m-%d')}', 'YYYY-MM-DD')\n",
    "          AND STATUS NOT IN ('Completou','Não completou')\n",
    "    \"\"\"\n",
    "    df_vencidos = pd.read_sql(query_vencidos, con=db.connection)\n",
    "\n",
    "    # 2. Registros com STATUS = 'Enviar' ou 'Em Execucao' na data de hoje\n",
    "    query_hoje = f\"\"\"\n",
    "        SELECT SEQ_CAMPANHA, COD_PACIENTE, NOME_PACIENTE, FONE, LIGAR_EM, STATUS, TEMPO_LIGACAO, CANAIS, CAMPANHA\n",
    "        FROM {tabela}\n",
    "        WHERE TO_CHAR(LIGAR_EM, 'YYYY-MM-DD') = '{hoje.strftime('%Y-%m-%d')}'\n",
    "          AND STATUS IN ('Enviar', 'Em Execucao')\n",
    "    \"\"\"\n",
    "    df_hoje = pd.read_sql(query_hoje, con=db.connection)\n",
    "\n",
    "\n",
    "\n",
    "    # 3. Acumula os registros que precisam ser redistribuídos\n",
    "    df_acumulado = pd.DataFrame()\n",
    "\n",
    "    if df_vencidos.shape[0] > 0:\n",
    "        print(f\"🔄 {len(df_vencidos)} registros vencidos serão redistribuídos.\")\n",
    "        df_acumulado = pd.concat([df_acumulado, df_vencidos])\n",
    "\n",
    "    if df_acumulado.empty:\n",
    "        print(f\"✅ Nenhum registro com STATUS = 'Enviar' para redistribuir.\")\n",
    "    else:\n",
    "        registros_para_redistribuir[tabela] = df_acumulado.copy()  "
   ]
  },
  {
   "cell_type": "code",
   "execution_count": null,
   "id": "00bd8957",
   "metadata": {},
   "outputs": [
    {
     "name": "stderr",
     "output_type": "stream",
     "text": [
      "2025-10-16 08:48:13,657 - INFO - Dados coletados com sucesso!\n"
     ]
    }
   ],
   "source": [
    "#BLOCO 2\n",
    "\n",
    "from datetime import datetime\n",
    "import pandas as pd\n",
    "\n",
    "hoje = datetime.today().date()\n",
    "mes_referencia = hoje.strftime('%m/%Y')\n",
    "\n",
    "# 1. Carrega o calendário a partir de hoje\n",
    "df_calendario = db.extract_data(f\"\"\"\n",
    "    SELECT * FROM DADOS_CALENDARIO_BI\n",
    "    WHERE DATA >= TO_DATE('{hoje.strftime('%Y-%m-%d')}', 'YYYY-MM-DD')\n",
    "\"\"\")\n",
    "df_calendario['DATA'] = pd.to_datetime(df_calendario['DATA'], errors='coerce')\n",
    "\n",
    "# 2. Filtra dias úteis com peso\n",
    "dias_uteis_validos = df_calendario[\n",
    "    (df_calendario['FERIADO_FOLGA'] != 'S') &\n",
    "    (df_calendario['DIAS_TT_MES'] > 0)\n",
    "][['DATA', 'DIAS_TT_MES']].copy()\n",
    "\n",
    "if dias_uteis_validos.empty:\n",
    "    raise ValueError(\"⚠️ Nenhum dia útil disponível a partir de hoje no calendário.\")\n",
    "\n"
   ]
  },
  {
   "cell_type": "code",
   "execution_count": 4,
   "id": "116f3a94",
   "metadata": {},
   "outputs": [
    {
     "name": "stdout",
     "output_type": "stream",
     "text": [
      "\n",
      "🔄 Iniciando redistribuição para campanha: CAMP_DERMATOLOGIA\n",
      "🧪 Total de registros recebidos: 49670\n",
      "🧪 Registros prontos para atualização: 49670\n",
      "✅ 49670 registros atualizados para CAMP_DERMATOLOGIA.\n"
     ]
    }
   ],
   "source": [
    "# BLOCO 3 — Redistribuição e Atualização\n",
    "for tabela, df_base in registros_para_redistribuir.items():\n",
    "    print(f\"\\n🔄 Iniciando redistribuição para campanha: {tabela}\")\n",
    "    print(f\"🧪 Total de registros recebidos: {len(df_base)}\")\n",
    "\n",
    "    df_base = df_base.reset_index(drop=True)\n",
    "    df_base = df_base.drop_duplicates(subset=['COD_PACIENTE', 'CAMPANHA'])\n",
    "\n",
    "    if df_base.empty:\n",
    "        print(f\"⚠️ Nenhum registro válido para redistribuir em {tabela}.\")\n",
    "        continue\n",
    "\n",
    "    # Redistribuição proporcional com garantia de hoje\n",
    "    total = len(df_base)\n",
    "    datas_expandidas = []\n",
    "\n",
    "    for _, row in dias_uteis_validos.iterrows():\n",
    "        peso = row['DIAS_TT_MES']\n",
    "        rep = int(peso * 2)\n",
    "        datas_expandidas.extend([row['DATA']] * rep)\n",
    "\n",
    "    data_hoje = pd.to_datetime(hoje)\n",
    "    if data_hoje not in datas_expandidas:\n",
    "        datas_expandidas.insert(0, data_hoje)\n",
    "\n",
    "    df_base['LIGAR_EM'] = [\n",
    "        datas_expandidas[i % len(datas_expandidas)].strftime('%Y-%m-%d')\n",
    "        for i in range(total)\n",
    "    ]\n",
    "    df_base['STATUS'] = 'Enviar'\n",
    "\n",
    "    # Verifica se os campos essenciais existem e preenche se necessário\n",
    "    campos_essenciais = ['COD_PACIENTE', 'FONE', 'CANAIS', 'CAMPANHA']\n",
    "    for campo in campos_essenciais:\n",
    "        if campo not in df_base.columns:\n",
    "            print(f\"⚠️ Campo ausente: {campo} — preenchendo com valor padrão.\")\n",
    "            df_base[campo] = 0\n",
    "\n",
    "    # Preenche nulos com valores padrão\n",
    "    df_base['FONE'] = df_base['FONE'].fillna(999999999)\n",
    "    df_base['CANAIS'] = df_base['CANAIS'].fillna(1)\n",
    "\n",
    "    # Converte para inteiro com tolerância\n",
    "    for campo in ['COD_PACIENTE', 'FONE', 'CANAIS']:\n",
    "        df_base[campo] = pd.to_numeric(df_base[campo], errors='coerce').fillna(0).astype(int)\n",
    "\n",
    "    print(f\"🧪 Registros prontos para atualização: {len(df_base)}\")\n",
    "\n",
    "    # Atualização no banco\n",
    "    sql_update = f\"\"\"\n",
    "        UPDATE AGE.{tabela}\n",
    "        SET \n",
    "            STATUS = :1,\n",
    "            LIGAR_EM = TO_DATE(:2, 'YYYY-MM-DD'),\n",
    "            CANAIS = :3\n",
    "        WHERE \n",
    "            COD_PACIENTE = :4\n",
    "            AND CAMPANHA = :5\n",
    "    \"\"\"\n",
    "\n",
    "    dados = []\n",
    "    for _, row in df_base.iterrows():\n",
    "        try:\n",
    "            dados.append((\n",
    "                'Enviar',\n",
    "                row['LIGAR_EM'],\n",
    "                row['CANAIS'],\n",
    "                row['COD_PACIENTE'],\n",
    "                str(row['CAMPANHA']).strip().upper().replace(\"'\", \"''\")\n",
    "            ))\n",
    "        except Exception as e:\n",
    "            print(f\"⚠️ Erro ao preparar linha: {e}\")\n",
    "            continue\n",
    "\n",
    "    if dados:\n",
    "        try:\n",
    "            db.cursor.executemany(sql_update, dados)\n",
    "            db.connection.commit()\n",
    "            print(f\"✅ {len(dados)} registros atualizados para {tabela}.\")\n",
    "        except Exception as e:\n",
    "            print(f\"❌ Erro ao executar UPDATE: {e}\")\n",
    "    else:\n",
    "        print(f\"⚠️ Nenhum dado válido para atualizar em {tabela}.\")\n"
   ]
  }
 ],
 "metadata": {
  "kernelspec": {
   "display_name": "base",
   "language": "python",
   "name": "python3"
  },
  "language_info": {
   "codemirror_mode": {
    "name": "ipython",
    "version": 3
   },
   "file_extension": ".py",
   "mimetype": "text/x-python",
   "name": "python",
   "nbconvert_exporter": "python",
   "pygments_lexer": "ipython3",
   "version": "3.13.5"
  }
 },
 "nbformat": 4,
 "nbformat_minor": 5
}
